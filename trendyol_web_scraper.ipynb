{
 "cells": [
  {
   "cell_type": "code",
   "execution_count": 1,
   "id": "1ba428f1-3ecc-4a3e-a212-dc5961051e29",
   "metadata": {},
   "outputs": [],
   "source": [
    "#import libraries\n",
    "from bs4 import BeautifulSoup\n",
    "import requests\n",
    "import time\n",
    "import datetime\n",
    "\n",
    "import smtplib"
   ]
  },
  {
   "cell_type": "code",
   "execution_count": 44,
   "id": "7938fbf0-51ab-498c-8227-efe1d21b9928",
   "metadata": {},
   "outputs": [
    {
     "name": "stdout",
     "output_type": "stream",
     "text": [
      "\n",
      "\n",
      "                   Ceet Markets\n",
      "                  \n",
      "\n",
      "                   Pileli Etek Antrasit\n",
      "                  \n",
      "\n",
      "641,82 TL\n"
     ]
    }
   ],
   "source": [
    "# Connect to Website\n",
    "URL = 'https://www.trendyol.com/pd/ceet-markets/pileli-etek-antrasit-p-883606037?boutiqueId=61&merchantId=1028442'\n",
    "headers =  {\"User-Agent\": \"Mozilla/5.0 (Windows NT 10.0; Win64; x64) AppleWebKit/537.36 (KHTML, like Gecko) Chrome/128.0.0.0 Safari/537.36\",\"Accept-Encoding\": \"gzip, deflate, br, zstd\",\"Accept\": \"text/html,application/xhtml+xml,application/xml;q=0.9,image/avif,image/webp,image/apng,*/*;q=0.8,application/signed-exchange;v=b3;q=0.7\",\"DNT\":\"1\",\"Connection\":\"close\", \"Upgrade-Insecure-Requests\": \"1\"}\n",
    "page = requests.get(URL, headers=headers)\n",
    "soup1 = BeautifulSoup(page.content,\"html.parser\")\n",
    "soup2 = BeautifulSoup(soup1.prettify(), \"html.parser\")\n",
    "title = soup2.find(class_ =\"pr-new-br\").get_text()\n",
    "price = soup2.find(class_ =\"prc-dsc\").get_text(strip=True)\n",
    "print(title)\n",
    "print(price)"
   ]
  },
  {
   "cell_type": "code",
   "execution_count": 45,
   "id": "46e13265-2a7d-4648-bccc-736137594b1c",
   "metadata": {},
   "outputs": [
    {
     "name": "stdout",
     "output_type": "stream",
     "text": [
      "Ceet Markets\n",
      "                  \n",
      "\n",
      "                   Pileli Etek Antrasit\n",
      "641.82\n"
     ]
    }
   ],
   "source": [
    "price =  price.replace('TL', '')\n",
    "price= price.replace(',', '.').strip()\n",
    "price = float(price)\n",
    "title = title.strip()\n",
    "print(title)\n",
    "print(price)"
   ]
  },
  {
   "cell_type": "code",
   "execution_count": 4,
   "id": "3130fcf8-2dbd-4525-95bf-a2cd8f13a233",
   "metadata": {},
   "outputs": [
    {
     "name": "stdout",
     "output_type": "stream",
     "text": [
      "2024-12-21\n"
     ]
    }
   ],
   "source": [
    "import datetime\n",
    "today = datetime.date.today()\n",
    "print(today)"
   ]
  },
  {
   "cell_type": "code",
   "execution_count": 5,
   "id": "721f6b6b-fcec-48db-8942-9ed49a76c7b2",
   "metadata": {},
   "outputs": [],
   "source": [
    "import csv\n",
    "\n",
    "header = ['Title', 'Price','Date']\n",
    "data = [title,price,today]\n",
    "\n",
    "type(data)\n",
    "\n",
    "with open('TrendyolWebScraperDataset.csv', 'w', newline='', encoding='UTF8') as f:\n",
    "    writer = csv.writer(f)\n",
    "    writer.writerow(header)\n",
    "    writer.writerow(data)"
   ]
  },
  {
   "cell_type": "code",
   "execution_count": 6,
   "id": "e74f4a52-40d4-44bc-9316-4d10fa2177f0",
   "metadata": {},
   "outputs": [
    {
     "name": "stdout",
     "output_type": "stream",
     "text": [
      "                                               Title      Price        Date\n",
      "0  Ceet Markets\\n                  \\n\\n          ...  641,82 TL  2024-12-21\n"
     ]
    }
   ],
   "source": [
    "import pandas as pd\n",
    "df = pd.read_csv(r'C:\\Users\\seda\\OneDrive\\Masaüstü\\trendyol_web_scraper\\TrendyolWebScraperDataset.csv')\n",
    "print(df)"
   ]
  },
  {
   "cell_type": "code",
   "execution_count": 7,
   "id": "e86f4aa4-a110-40fd-bfdf-bb6e4203e373",
   "metadata": {},
   "outputs": [],
   "source": [
    "with open('TrendyolWebScraperDataset.csv', 'a+', newline='', encoding='UTF8') as f:\n",
    "    writer = csv.writer(f)\n",
    "    writer.writerow(header)\n",
    "    writer.writerow(data)"
   ]
  },
  {
   "cell_type": "code",
   "execution_count": 46,
   "id": "fe69b3b6-df50-4eae-9d68-de6dc3ac825f",
   "metadata": {},
   "outputs": [],
   "source": [
    "def check_price():\n",
    "    URL = 'https://www.trendyol.com/pd/ceet-markets/pileli-etek-antrasit-p-883606037?boutiqueId=61&merchantId=1028442'\n",
    "    headers =  {\"User-Agent\": \"Mozilla/5.0 (Windows NT 10.0; Win64; x64) AppleWebKit/537.36 (KHTML, like Gecko) Chrome/128.0.0.0 Safari/537.36\",\"Accept-Encoding\": \"gzip, deflate, br, zstd\",\"Accept\": \"text/html,application/xhtml+xml,application/xml;q=0.9,image/avif,image/webp,image/apng,*/*;q=0.8,application/signed-exchange;v=b3;q=0.7\",\"DNT\":\"1\",\"Connection\":\"close\", \"Upgrade-Insecure-Requests\": \"1\"}\n",
    "    page = requests.get(URL, headers=headers)\n",
    "    soup1 = BeautifulSoup(page.content,\"html.parser\")\n",
    "    soup2 = BeautifulSoup(soup1.prettify(), \"html.parser\")\n",
    "    title = soup2.find(class_ =\"pr-new-br\").get_text()\n",
    "    price = soup2.find(class_ =\"prc-dsc\").get_text(strip=True)\n",
    "    price =  price.replace('TL', '')\n",
    "    price= price.replace(',', '.').strip()\n",
    "    price = float(price)\n",
    "    title = title.strip()\n",
    "    print(title)\n",
    "    print(price)\n",
    "    import datetime\n",
    "    today = datetime.date.today()\n",
    "    import csv\n",
    "\n",
    "    header = ['Title', 'Price','Date']\n",
    "    data = [title,price,today]\n",
    "    with open('TrendyolWebScraperDataset.csv', 'a+', newline='', encoding='UTF8') as f:\n",
    "        writer = csv.writer(f)\n",
    "        writer.writerow(header)\n",
    "        writer.writerow(data)"
   ]
  },
  {
   "cell_type": "code",
   "execution_count": 47,
   "id": "f3be78de-5844-48bb-a31d-d686ec5b4989",
   "metadata": {},
   "outputs": [
    {
     "name": "stdout",
     "output_type": "stream",
     "text": [
      "Ceet Markets\n",
      "                  \n",
      "\n",
      "                   Pileli Etek Antrasit\n",
      "641.82\n"
     ]
    }
   ],
   "source": [
    "import threading\n",
    "import time\n",
    "\n",
    "def run_price_checker():\n",
    "    while True:\n",
    "        check_price()\n",
    "        time.sleep(86400)\n",
    "\n",
    "thread = threading.Thread(target=run_price_checker)\n",
    "thread.start()"
   ]
  },
  {
   "cell_type": "code",
   "execution_count": 48,
   "id": "3486f12f-12bd-47c7-82a7-04adcfa54ede",
   "metadata": {},
   "outputs": [
    {
     "name": "stdout",
     "output_type": "stream",
     "text": [
      "maua tcld wceu nvxm\n"
     ]
    }
   ],
   "source": [
    "import os\n",
    "\n",
    "os.environ[\"GMAIL_PASSWORD\"] = \"password\"\n",
    "gmail_password = os.environ.get(\"GMAIL_PASSWORD\")\n",
    "print(gmail_password)"
   ]
  },
  {
   "cell_type": "code",
   "execution_count": 53,
   "id": "2c7a8a76-d1db-42d3-a43f-2d2c02b2221d",
   "metadata": {},
   "outputs": [
    {
     "name": "stdout",
     "output_type": "stream",
     "text": [
      "Email sent successfully!\n"
     ]
    }
   ],
   "source": [
    "import smtplib\n",
    "import os\n",
    "\n",
    "def send_mail():\n",
    "    try:\n",
    "        gmail_user = 'example@example.com'\n",
    "        gmail_password = os.environ.get('GMAIL_PASSWORD')  \n",
    "        \n",
    "        if not gmail_password:\n",
    "            raise ValueError(\"GMAIL_PASSWORD environment variable is not defined.\")\n",
    "        \n",
    "        subject = \"The skirt you want is below 642! Now is your chance to buy!\"\n",
    "        body = (\n",
    "            \"Seda, This is the moment we have been waiting for. \"\n",
    "            \"Now is your chance to pick up the skirt of your dreams. \"\n",
    "            \"Don't mess it up! Link here: https://www.trendyol.com/pd/ceet-markets/pileli-etek-antrasit-p-883606037?boutiqueId=61&merchantId=1028442\"\n",
    "        )\n",
    "        msg = f\"Subject: {subject}\\n\\n{body}\"\n",
    "        \n",
    "        with smtplib.SMTP_SSL('smtp.gmail.com', 465) as server:\n",
    "            server.login(gmail_user, gmail_password)\n",
    "            server.sendmail(\n",
    "                from_addr=gmail_user,  \n",
    "                to_addrs='example@example.com',  \n",
    "                msg=msg\n",
    "            )\n",
    "        \n",
    "        print(\"Email sent successfully!\")\n",
    "    \n",
    "    except Exception as e:\n",
    "        print(f\"An error occurred: {e}\")\n",
    "\n",
    "\n",
    "send_mail()\n"
   ]
  },
  {
   "cell_type": "code",
   "execution_count": 54,
   "id": "6d25ab61-a241-41b3-b4e4-ca0168a27511",
   "metadata": {},
   "outputs": [
    {
     "name": "stdout",
     "output_type": "stream",
     "text": [
      "Ceet Markets\n",
      "                  \n",
      "\n",
      "                   Pileli Etek Antrasit\n",
      "641.82\n",
      "Email sent successfully!\n"
     ]
    }
   ],
   "source": [
    "def check_price():\n",
    " URL = 'https://www.trendyol.com/pd/ceet-markets/pileli-etek-antrasit-p-883606037?boutiqueId=61&merchantId=1028442'\n",
    " headers =  {\"User-Agent\": \"Mozilla/5.0 (Windows NT 10.0; Win64; x64) AppleWebKit/537.36 (KHTML, like Gecko) Chrome/128.0.0.0 Safari/537.36\",\"Accept-Encoding\": \"gzip, deflate, br, zstd\",\"Accept\": \"text/html,application/xhtml+xml,application/xml;q=0.9,image/avif,image/webp,image/apng,*/*;q=0.8,application/signed-exchange;v=b3;q=0.7\",\"DNT\":\"1\",\"Connection\":\"close\", \"Upgrade-Insecure-Requests\": \"1\"}\n",
    " page = requests.get(URL, headers=headers)\n",
    " soup1 = BeautifulSoup(page.content,\"html.parser\")\n",
    " soup2 = BeautifulSoup(soup1.prettify(), \"html.parser\")\n",
    " title = soup2.find(class_ =\"pr-new-br\").get_text()\n",
    " price = soup2.find(class_ =\"prc-dsc\").get_text(strip=True)\n",
    "print(title)\n",
    "print(price)\n",
    "title = title.strip()\n",
    "import datetime\n",
    "today = datetime.date.today()\n",
    "import csv\n",
    "\n",
    "header = ['Title', 'Price','Date']\n",
    "data = [title,price,today]\n",
    "with open('TrendyolWebScraperDataset.csv', 'a+', newline='', encoding='UTF8') as f:\n",
    "     writer = csv.writer(f)\n",
    "     writer.writerow(header)\n",
    "     writer.writerow(data)\n",
    "if float(price) < 642:\n",
    "        send_mail()"
   ]
  },
  {
   "cell_type": "code",
   "execution_count": null,
   "id": "d937a11a-f217-4602-9202-651f3e55f47f",
   "metadata": {},
   "outputs": [],
   "source": []
  }
 ],
 "metadata": {
  "kernelspec": {
   "display_name": "Python 3 (ipykernel)",
   "language": "python",
   "name": "python3"
  },
  "language_info": {
   "codemirror_mode": {
    "name": "ipython",
    "version": 3
   },
   "file_extension": ".py",
   "mimetype": "text/x-python",
   "name": "python",
   "nbconvert_exporter": "python",
   "pygments_lexer": "ipython3",
   "version": "3.12.4"
  }
 },
 "nbformat": 4,
 "nbformat_minor": 5
}
